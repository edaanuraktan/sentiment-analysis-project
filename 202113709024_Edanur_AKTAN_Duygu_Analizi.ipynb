{
  "nbformat": 4,
  "nbformat_minor": 0,
  "metadata": {
    "colab": {
      "provenance": []
    },
    "kernelspec": {
      "name": "python3",
      "display_name": "Python 3"
    },
    "language_info": {
      "name": "python"
    }
  },
  "cells": [
    {
      "cell_type": "markdown",
      "source": [
        "# Bu proje, 2024-2025 Güz Dönemi Yapay Zekâ Teknikleri Dersi Final Sınavı için hazırlanmıştır.\n",
        "# Proje Konusu: Sosyal Medya Duygu Analizi\n",
        "# Seçilen Sosyal Medya Platformu: Uludağ Sözlük\n",
        "\n",
        "\n"
      ],
      "metadata": {
        "id": "aKHPPBf6yCff"
      }
    },
    {
      "cell_type": "code",
      "source": [
        "# Gerekli kütüphane velerin import edilme işlemi bu hücrede gerçekleştirilmektedir:\n",
        "import numpy as np\n",
        "import pandas as pd\n",
        "import matplotlib.pyplot as plt\n",
        "import re\n",
        "from tensorflow.keras.models import Sequential\n",
        "from tensorflow.keras.layers import Dense, LSTM, Embedding, Dropout\n",
        "from tensorflow.keras.preprocessing.text import Tokenizer\n",
        "from tensorflow.keras.preprocessing.sequence import pad_sequences\n",
        "from tensorflow.keras.callbacks import EarlyStopping, ReduceLROnPlateau\n",
        "from tensorflow.keras.optimizers import Adam\n",
        "from nltk.corpus import stopwords\n",
        "from tensorflow.keras.models import load_model\n",
        "\n",
        "# Stopwords yükleme işlemi (Türkçe stopwords için):\n",
        "import nltk\n",
        "nltk.download('stopwords')\n",
        "stop_words = set(stopwords.words('turkish'))"
      ],
      "metadata": {
        "id": "H4QYccbC4-ef",
        "colab": {
          "base_uri": "https://localhost:8080/"
        },
        "outputId": "fcdddbc6-49ab-4253-c8f6-25bc23c37ab7"
      },
      "execution_count": 2,
      "outputs": [
        {
          "output_type": "stream",
          "name": "stderr",
          "text": [
            "[nltk_data] Downloading package stopwords to /root/nltk_data...\n",
            "[nltk_data]   Package stopwords is already up-to-date!\n"
          ]
        }
      ]
    },
    {
      "cell_type": "code",
      "source": [
        "# Yüklenen dosyaları okuma işlemi:\n",
        "train_data = pd.read_excel(\"train_tweets.xlsx\")\n",
        "test_data = pd.read_excel(\"test_tweets.xlsx\")\n",
        "\n",
        "# İlk birkaç satırın incelenmesi:\n",
        "print(\"Train Data:\")\n",
        "print(train_data.head())\n",
        "\n",
        "print(\"\\nTest Data:\")\n",
        "print(test_data.head())"
      ],
      "metadata": {
        "id": "zQutolp95f0K",
        "colab": {
          "base_uri": "https://localhost:8080/"
        },
        "outputId": "a34d8415-ccca-4fef-a416-06f9b5ed5a31"
      },
      "execution_count": 3,
      "outputs": [
        {
          "output_type": "stream",
          "name": "stdout",
          "text": [
            "Train Data:\n",
            "  Ulan Wifi'ye bağlıyım ben. Ona bağlıyken Turkcell internet paketin bitti diye nasıl mesaj atabilir bana ya? Onu da mı ödeyelim  \\\n",
            "0  20 dk 1 GB internet 500 mb sadece kaşar turkce...                                                                               \n",
            "1  Ayrıca turkcell superonline reklamı kadar da k...                                                                               \n",
            "2                             Turkcell çok pahalı ya                                                                               \n",
            "3                Turkcell Kaş'ta internetin cekmiyor                                                                               \n",
            "4  Turkcell'in Allah belası versin demek isterdim...                                                                               \n",
            "\n",
            "   olumsuz  \n",
            "0  olumsuz  \n",
            "1  olumsuz  \n",
            "2  olumsuz  \n",
            "3  olumsuz  \n",
            "4  olumsuz  \n",
            "\n",
            "Test Data:\n",
            "  Turkcell'e kızgınım. Ve bu kızgınlık sanırım ayrılıkla sonlanıcak gibi geliyor bana.Farklı bir operatörün %30'u fazla fiyat teklif ediyorlar  \\\n",
            "0                 turkcell kadar şerefsiz misiniz ya                                                                                             \n",
            "1  Burdan Turkcell'e sesleniyorum o 3 tl haram olsun                                                                                             \n",
            "2  Hayatımda turkcell kadar kazık 1 operatör görm...                                                                                             \n",
            "3  Turkcell gözümde son demlerini yaşıyor hattı d...                                                                                             \n",
            "4            Sonra turkcell olduğunu görüp sövüyorum                                                                                             \n",
            "\n",
            "   olumsuz  \n",
            "0  olumsuz  \n",
            "1  olumsuz  \n",
            "2  olumsuz  \n",
            "3  olumsuz  \n",
            "4  olumsuz  \n"
          ]
        }
      ]
    },
    {
      "cell_type": "code",
      "source": [
        "# Veri setinin genel bilgilerini görüntülemek için:\n",
        "print(\"Train Data Info:\")\n",
        "print(train_data.info())\n",
        "print(\"\\nTest Data Info:\")\n",
        "print(test_data.info())\n",
        "\n",
        "# Eksik değer kontrolü aşaması:\n",
        "print(\"\\nEksik değer kontrolü:\")\n",
        "print(train_data.isnull().sum())\n",
        "print(test_data.isnull().sum())\n",
        "\n",
        "# Alınan çıktı neticesinde bu veri setinde eksik değer bulunmadığı tespit edilmiştir."
      ],
      "metadata": {
        "id": "gpK3_ZZ25jo1",
        "colab": {
          "base_uri": "https://localhost:8080/"
        },
        "outputId": "f959aa86-2f48-4c5f-9804-87633448c422"
      },
      "execution_count": 4,
      "outputs": [
        {
          "output_type": "stream",
          "name": "stdout",
          "text": [
            "Train Data Info:\n",
            "<class 'pandas.core.frame.DataFrame'>\n",
            "RangeIndex: 13831 entries, 0 to 13830\n",
            "Data columns (total 2 columns):\n",
            " #   Column                                                                                                                          Non-Null Count  Dtype \n",
            "---  ------                                                                                                                          --------------  ----- \n",
            " 0   Ulan Wifi'ye bağlıyım ben. Ona bağlıyken Turkcell internet paketin bitti diye nasıl mesaj atabilir bana ya? Onu da mı ödeyelim  13831 non-null  object\n",
            " 1   olumsuz                                                                                                                         13831 non-null  object\n",
            "dtypes: object(2)\n",
            "memory usage: 216.2+ KB\n",
            "None\n",
            "\n",
            "Test Data Info:\n",
            "<class 'pandas.core.frame.DataFrame'>\n",
            "RangeIndex: 3456 entries, 0 to 3455\n",
            "Data columns (total 2 columns):\n",
            " #   Column                                                                                                                                        Non-Null Count  Dtype \n",
            "---  ------                                                                                                                                        --------------  ----- \n",
            " 0   Turkcell'e kızgınım. Ve bu kızgınlık sanırım ayrılıkla sonlanıcak gibi geliyor bana.Farklı bir operatörün %30'u fazla fiyat teklif ediyorlar  3456 non-null   object\n",
            " 1   olumsuz                                                                                                                                       3456 non-null   object\n",
            "dtypes: object(2)\n",
            "memory usage: 54.1+ KB\n",
            "None\n",
            "\n",
            "Eksik değer kontrolü:\n",
            "Ulan Wifi'ye bağlıyım ben. Ona bağlıyken Turkcell internet paketin bitti diye nasıl mesaj atabilir bana ya? Onu da mı ödeyelim    0\n",
            "olumsuz                                                                                                                           0\n",
            "dtype: int64\n",
            "Turkcell'e kızgınım. Ve bu kızgınlık sanırım ayrılıkla sonlanıcak gibi geliyor bana.Farklı bir operatörün %30'u fazla fiyat teklif ediyorlar    0\n",
            "olumsuz                                                                                                                                         0\n",
            "dtype: int64\n"
          ]
        }
      ]
    },
    {
      "cell_type": "code",
      "source": [
        "# Sütun adlarını düzenleme aşaması:\n",
        "train_data.columns = ['metin', 'etiket']\n",
        "test_data.columns = ['metin', 'etiket']\n",
        "\n",
        "# Düzenleme sonrası kontrol etmek için:\n",
        "print(\"Train Data:\")\n",
        "print(train_data.head())\n",
        "print(\"\\nTest Data:\")\n",
        "print(test_data.head())"
      ],
      "metadata": {
        "id": "Qw3xcGRS5pTJ",
        "colab": {
          "base_uri": "https://localhost:8080/"
        },
        "outputId": "b2d18e55-9777-4981-f50f-84f73b16a776"
      },
      "execution_count": 5,
      "outputs": [
        {
          "output_type": "stream",
          "name": "stdout",
          "text": [
            "Train Data:\n",
            "                                               metin   etiket\n",
            "0  20 dk 1 GB internet 500 mb sadece kaşar turkce...  olumsuz\n",
            "1  Ayrıca turkcell superonline reklamı kadar da k...  olumsuz\n",
            "2                             Turkcell çok pahalı ya  olumsuz\n",
            "3                Turkcell Kaş'ta internetin cekmiyor  olumsuz\n",
            "4  Turkcell'in Allah belası versin demek isterdim...  olumsuz\n",
            "\n",
            "Test Data:\n",
            "                                               metin   etiket\n",
            "0                 turkcell kadar şerefsiz misiniz ya  olumsuz\n",
            "1  Burdan Turkcell'e sesleniyorum o 3 tl haram olsun  olumsuz\n",
            "2  Hayatımda turkcell kadar kazık 1 operatör görm...  olumsuz\n",
            "3  Turkcell gözümde son demlerini yaşıyor hattı d...  olumsuz\n",
            "4            Sonra turkcell olduğunu görüp sövüyorum  olumsuz\n"
          ]
        }
      ]
    },
    {
      "cell_type": "code",
      "source": [
        "# Metin temizleme fonksiyonu:\n",
        "def temizle(metin):\n",
        "    metin = metin.lower()  # Küçük harfe çevirme fonksiyonu\n",
        "    metin = re.sub(r'[^\\w\\s]', '', metin)  # Noktalama işaretlerini kaldırmak için\n",
        "    metin = re.sub(r'\\d+', '', metin)  # Sayıları kaldırmak için\n",
        "    metin = re.sub(r'\\s+', ' ', metin).strip()  # Fazla boşlukları kaldırmak için\n",
        "    return metin\n",
        "\n",
        "# Eğitim ve test verisindeki metinlerin temizlenmesi işlemi:\n",
        "train_data['metin'] = train_data['metin'].apply(temizle)\n",
        "test_data['metin'] = test_data['metin'].apply(temizle)\n",
        "\n",
        "# Temizlemeden sonra ilk birkaç satırı incelemek için:\n",
        "print(\"Temizlenmiş Train Data:\")\n",
        "print(train_data.head())\n",
        "\n",
        "print(\"\\nTemizlenmiş Test Data:\")\n",
        "print(test_data.head())"
      ],
      "metadata": {
        "id": "VsiC1LjL5_XI",
        "colab": {
          "base_uri": "https://localhost:8080/"
        },
        "outputId": "29370a8b-20e7-45cc-9488-bfb133b8747f"
      },
      "execution_count": 6,
      "outputs": [
        {
          "output_type": "stream",
          "name": "stdout",
          "text": [
            "Temizlenmiş Train Data:\n",
            "                                               metin   etiket\n",
            "0  dk gb internet mb sadece kaşar turkcell de düş...  olumsuz\n",
            "1  ayrıca turkcell superonline reklamı kadar da k...  olumsuz\n",
            "2                             turkcell çok pahalı ya  olumsuz\n",
            "3                 turkcell kaşta internetin cekmiyor  olumsuz\n",
            "4  turkcellin allah belası versin demek isterdim ...  olumsuz\n",
            "\n",
            "Temizlenmiş Test Data:\n",
            "                                               metin   etiket\n",
            "0                 turkcell kadar şerefsiz misiniz ya  olumsuz\n",
            "1     burdan turkcelle sesleniyorum o tl haram olsun  olumsuz\n",
            "2   hayatımda turkcell kadar kazık operatör görmedim  olumsuz\n",
            "3  turkcell gözümde son demlerini yaşıyor hattı d...  olumsuz\n",
            "4            sonra turkcell olduğunu görüp sövüyorum  olumsuz\n"
          ]
        }
      ]
    },
    {
      "cell_type": "code",
      "source": [
        "# Etiketlerin dağılımını kontrol etmek ve görselleştirmek için:\n",
        "\n",
        "print(\"Eğitim Verisi Etiket Dağılımı:\")\n",
        "print(train_data['etiket'].value_counts())\n",
        "\n",
        "print(\"\\nTest Verisi Etiket Dağılımı:\")\n",
        "print(test_data['etiket'].value_counts())\n",
        "\n",
        "print(\"Eğitim Verisi Etiket Dağılımı:\")\n",
        "print(train_data['etiket'].value_counts())\n",
        "\n",
        "print(\"\\nTest Verisi Etiket Dağılımı:\")\n",
        "print(test_data['etiket'].value_counts())\n",
        "\n",
        "# Eğitim verisinin etiket dağılımını görselleştirme:\n",
        "plt.figure(figsize=(8, 6))\n",
        "train_data['etiket'].value_counts().plot(kind='bar')\n",
        "plt.title('Eğitim Verisi Etiket Dağılımı')\n",
        "plt.xticks(ticks=[0, 1, 2], labels=['Olumsuz', 'Notr', 'Olumlu'], rotation=0)\n",
        "plt.show()\n",
        "\n",
        "# Test verisinin etiket dağılımını görselleştirme:\n",
        "plt.figure(figsize=(8, 6))\n",
        "test_data['etiket'].value_counts().plot(kind='bar')\n",
        "plt.title('Test Verisi Etiket Dağılımı')\n",
        "plt.xticks(ticks=[0, 1, 2], labels=['Olumsuz', 'Notr', 'Olumlu'], rotation=0)\n",
        "plt.show()"
      ],
      "metadata": {
        "id": "ZpYOaum96GWT",
        "colab": {
          "base_uri": "https://localhost:8080/",
          "height": 1000
        },
        "outputId": "cafa6a77-eb91-444d-a1f3-9bae22ca073a"
      },
      "execution_count": 7,
      "outputs": [
        {
          "output_type": "stream",
          "name": "stdout",
          "text": [
            "Eğitim Verisi Etiket Dağılımı:\n",
            "etiket\n",
            "olumsuz    5510\n",
            "notr       4658\n",
            "olumlu     3663\n",
            "Name: count, dtype: int64\n",
            "\n",
            "Test Verisi Etiket Dağılımı:\n",
            "etiket\n",
            "olumsuz    1376\n",
            "notr       1164\n",
            "olumlu      916\n",
            "Name: count, dtype: int64\n",
            "Eğitim Verisi Etiket Dağılımı:\n",
            "etiket\n",
            "olumsuz    5510\n",
            "notr       4658\n",
            "olumlu     3663\n",
            "Name: count, dtype: int64\n",
            "\n",
            "Test Verisi Etiket Dağılımı:\n",
            "etiket\n",
            "olumsuz    1376\n",
            "notr       1164\n",
            "olumlu      916\n",
            "Name: count, dtype: int64\n"
          ]
        },
        {
          "output_type": "display_data",
          "data": {
            "text/plain": [
              "<Figure size 800x600 with 1 Axes>"
            ],
            "image/png": "[encoded data removed]"
          },
          "metadata": {}
        },
        {
          "output_type": "display_data",
          "data": {
            "text/plain": [
              "<Figure size 800x600 with 1 Axes>"
            ],
            "image/png": "[encoded data removed]"
          },
          "metadata": {}
        }
      ]
    },
    {
      "cell_type": "code",
      "source": [
        "# Etiketleri sayısallaştırma işlemi:\n",
        "etiket_mapping = {'olumsuz': 0, 'notr': 1, 'olumlu': 2}\n",
        "train_data['etiket'] = train_data['etiket'].map(etiket_mapping)\n",
        "test_data['etiket'] = test_data['etiket'].map(etiket_mapping)\n",
        "\n",
        "# İlk birkaç satırın kontrolü:\n",
        "print(\"Sayısallaştırılmış Train Data:\")\n",
        "print(train_data.head())\n",
        "\n",
        "print(\"\\nSayısallaştırılmış Test Data:\")\n",
        "print(test_data.head())\n",
        "\n",
        "\n",
        "# Veri setinde başlangıçta sadece olumsuz yorum girdileri yer aldığı için ilk beş sütun değerleri bu şekilde (0) çıkmıştır."
      ],
      "metadata": {
        "id": "HOzsTEJg6Jr4",
        "colab": {
          "base_uri": "https://localhost:8080/"
        },
        "outputId": "43efe567-3b28-4e7c-b466-504364c1540d"
      },
      "execution_count": 8,
      "outputs": [
        {
          "output_type": "stream",
          "name": "stdout",
          "text": [
            "Sayısallaştırılmış Train Data:\n",
            "                                               metin  etiket\n",
            "0  dk gb internet mb sadece kaşar turkcell de düş...       0\n",
            "1  ayrıca turkcell superonline reklamı kadar da k...       0\n",
            "2                             turkcell çok pahalı ya       0\n",
            "3                 turkcell kaşta internetin cekmiyor       0\n",
            "4  turkcellin allah belası versin demek isterdim ...       0\n",
            "\n",
            "Sayısallaştırılmış Test Data:\n",
            "                                               metin  etiket\n",
            "0                 turkcell kadar şerefsiz misiniz ya       0\n",
            "1     burdan turkcelle sesleniyorum o tl haram olsun       0\n",
            "2   hayatımda turkcell kadar kazık operatör görmedim       0\n",
            "3  turkcell gözümde son demlerini yaşıyor hattı d...       0\n",
            "4            sonra turkcell olduğunu görüp sövüyorum       0\n"
          ]
        }
      ]
    },
    {
      "cell_type": "code",
      "source": [
        "# Tokenizer oluşturma işlemi:\n",
        "max_num_words = 10000  # Sözlükteki maksimum kelime sayısı\n",
        "max_sequence_length = 50  # Metinlerin maksimum uzunluğu\n",
        "\n",
        "tokenizer = Tokenizer(num_words=max_num_words)\n",
        "tokenizer.fit_on_texts(train_data['metin'])  # Eğitim verisiyle tokenizer eğitme işlemi\n",
        "\n",
        "# Metinleri sekanslara dönüştürmek için:\n",
        "train_sequences = tokenizer.texts_to_sequences(train_data['metin'])\n",
        "test_sequences = tokenizer.texts_to_sequences(test_data['metin'])\n",
        "\n",
        "# Sekansları padding ile eşitlemek için:\n",
        "X_train = pad_sequences(train_sequences, maxlen=max_sequence_length)\n",
        "X_test = pad_sequences(test_sequences, maxlen=max_sequence_length)\n",
        "\n",
        "# Etiketleri ayırmak için:\n",
        "y_train = train_data['etiket'].values\n",
        "y_test = test_data['etiket'].values\n",
        "\n",
        "# Veri şekillerinin kontrolü aşaması:\n",
        "print(\"X_train shape:\", X_train.shape)\n",
        "print(\"X_test shape:\", X_test.shape)\n",
        "print(\"y_train shape:\", y_train.shape)\n",
        "print(\"y_test shape:\", y_test.shape)"
      ],
      "metadata": {
        "id": "Z-Ndm8L-6hUq",
        "colab": {
          "base_uri": "https://localhost:8080/"
        },
        "outputId": "0a1c9061-c59d-4caa-e20c-d6a28f9d902b"
      },
      "execution_count": 9,
      "outputs": [
        {
          "output_type": "stream",
          "name": "stdout",
          "text": [
            "X_train shape: (13831, 50)\n",
            "X_test shape: (3456, 50)\n",
            "y_train shape: (13831,)\n",
            "y_test shape: (3456,)\n"
          ]
        }
      ]
    },
    {
      "cell_type": "code",
      "source": [
        "# Model oluşturmak için:\n",
        "model = Sequential()\n",
        "\n",
        "# Embedding katmanı\n",
        "embedding_dim = 100\n",
        "model.add(Embedding(input_dim=max_num_words,\n",
        "                    output_dim=embedding_dim,\n",
        "                    input_length=max_sequence_length))\n",
        "\n",
        "# LSTM katmanı:\n",
        "model.add(LSTM(64, dropout=0.3, recurrent_dropout=0.3))\n",
        "\n",
        "# Dense katman:\n",
        "model.add(Dense(32, activation='relu'))\n",
        "model.add(Dropout(0.6))  # Dropout oranı artırıldı\n",
        "\n",
        "# Çıkış katmanı:\n",
        "model.add(Dense(3, activation='softmax'))\n",
        "\n",
        "# Öğrenme oranı:\n",
        "optimizer = Adam(learning_rate=0.0001)\n",
        "\n",
        "# Modeli derleme aşaması:\n",
        "model.compile(loss='sparse_categorical_crossentropy',\n",
        "              optimizer=optimizer,\n",
        "              metrics=['accuracy'])\n",
        "\n",
        "# Modelin özetini yazdırmak için:\n",
        "model.summary()\n"
      ],
      "metadata": {
        "id": "MOlhBzK86kuF",
        "colab": {
          "base_uri": "https://localhost:8080/",
          "height": 337
        },
        "outputId": "496f5625-05ed-4872-bc1d-954643b3d5e8"
      },
      "execution_count": 10,
      "outputs": [
        {
          "output_type": "stream",
          "name": "stderr",
          "text": [
            "/usr/local/lib/python3.10/dist-packages/keras/src/layers/core/embedding.py:90: UserWarning: Argument `input_length` is deprecated. Just remove it.\n",
            "  warnings.warn(\n"
          ]
        },
        {
          "output_type": "display_data",
          "data": {
            "text/plain": [
              "\u001b[1mModel: \"sequential\"\u001b[0m\n"
            ],
            "text/html": [
              "<pre style=\"white-space:pre;overflow-x:auto;line-height:normal;font-family:Menlo,'DejaVu Sans Mono',consolas,'Courier New',monospace\"><span style=\"font-weight: bold\">Model: \"sequential\"</span>\n",
              "</pre>\n"
            ]
          },
          "metadata": {}
        },
        {
          "output_type": "display_data",
          "data": {
            "text/plain": [
              "┏━━━━━━━━━━━━━━━━━━━━━━━━━━━━━━━━━━━━━━┳━━━━━━━━━━━━━━━━━━━━━━━━━━━━━┳━━━━━━━━━━━━━━━━━┓\n",
              "┃\u001b[1m \u001b[0m\u001b[1mLayer (type)                        \u001b[0m\u001b[1m \u001b[0m┃\u001b[1m \u001b[0m\u001b[1mOutput Shape               \u001b[0m\u001b[1m \u001b[0m┃\u001b[1m \u001b[0m\u001b[1m        Param #\u001b[0m\u001b[1m \u001b[0m┃\n",
              "┡━━━━━━━━━━━━━━━━━━━━━━━━━━━━━━━━━━━━━━╇━━━━━━━━━━━━━━━━━━━━━━━━━━━━━╇━━━━━━━━━━━━━━━━━┩\n",
              "│ embedding (\u001b[38;5;33mEmbedding\u001b[0m)                │ ?                           │     \u001b[38;5;34m0\u001b[0m (unbuilt) │\n",
              "├──────────────────────────────────────┼─────────────────────────────┼─────────────────┤\n",
              "│ lstm (\u001b[38;5;33mLSTM\u001b[0m)                          │ ?                           │     \u001b[38;5;34m0\u001b[0m (unbuilt) │\n",
              "├──────────────────────────────────────┼─────────────────────────────┼─────────────────┤\n",
              "│ dense (\u001b[38;5;33mDense\u001b[0m)                        │ ?                           │     \u001b[38;5;34m0\u001b[0m (unbuilt) │\n",
              "├──────────────────────────────────────┼─────────────────────────────┼─────────────────┤\n",
              "│ dropout (\u001b[38;5;33mDropout\u001b[0m)                    │ ?                           │     \u001b[38;5;34m0\u001b[0m (unbuilt) │\n",
              "├──────────────────────────────────────┼─────────────────────────────┼─────────────────┤\n",
              "│ dense_1 (\u001b[38;5;33mDense\u001b[0m)                      │ ?                           │     \u001b[38;5;34m0\u001b[0m (unbuilt) │\n",
              "└──────────────────────────────────────┴─────────────────────────────┴─────────────────┘\n"
            ],
            "text/html": [
              "<pre style=\"white-space:pre;overflow-x:auto;line-height:normal;font-family:Menlo,'DejaVu Sans Mono',consolas,'Courier New',monospace\">┏━━━━━━━━━━━━━━━━━━━━━━━━━━━━━━━━━━━━━━┳━━━━━━━━━━━━━━━━━━━━━━━━━━━━━┳━━━━━━━━━━━━━━━━━┓\n",
              "┃<span style=\"font-weight: bold\"> Layer (type)                         </span>┃<span style=\"font-weight: bold\"> Output Shape                </span>┃<span style=\"font-weight: bold\">         Param # </span>┃\n",
              "┡━━━━━━━━━━━━━━━━━━━━━━━━━━━━━━━━━━━━━━╇━━━━━━━━━━━━━━━━━━━━━━━━━━━━━╇━━━━━━━━━━━━━━━━━┩\n",
              "│ embedding (<span style=\"color: #0087ff; text-decoration-color: #0087ff\">Embedding</span>)                │ ?                           │     <span style=\"color: #00af00; text-decoration-color: #00af00\">0</span> (unbuilt) │\n",
              "├──────────────────────────────────────┼─────────────────────────────┼─────────────────┤\n",
              "│ lstm (<span style=\"color: #0087ff; text-decoration-color: #0087ff\">LSTM</span>)                          │ ?                           │     <span style=\"color: #00af00; text-decoration-color: #00af00\">0</span> (unbuilt) │\n",
              "├──────────────────────────────────────┼─────────────────────────────┼─────────────────┤\n",
              "│ dense (<span style=\"color: #0087ff; text-decoration-color: #0087ff\">Dense</span>)                        │ ?                           │     <span style=\"color: #00af00; text-decoration-color: #00af00\">0</span> (unbuilt) │\n",
              "├──────────────────────────────────────┼─────────────────────────────┼─────────────────┤\n",
              "│ dropout (<span style=\"color: #0087ff; text-decoration-color: #0087ff\">Dropout</span>)                    │ ?                           │     <span style=\"color: #00af00; text-decoration-color: #00af00\">0</span> (unbuilt) │\n",
              "├──────────────────────────────────────┼─────────────────────────────┼─────────────────┤\n",
              "│ dense_1 (<span style=\"color: #0087ff; text-decoration-color: #0087ff\">Dense</span>)                      │ ?                           │     <span style=\"color: #00af00; text-decoration-color: #00af00\">0</span> (unbuilt) │\n",
              "└──────────────────────────────────────┴─────────────────────────────┴─────────────────┘\n",
              "</pre>\n"
            ]
          },
          "metadata": {}
        },
        {
          "output_type": "display_data",
          "data": {
            "text/plain": [
              "\u001b[1m Total params: \u001b[0m\u001b[38;5;34m0\u001b[0m (0.00 B)\n"
            ],
            "text/html": [
              "<pre style=\"white-space:pre;overflow-x:auto;line-height:normal;font-family:Menlo,'DejaVu Sans Mono',consolas,'Courier New',monospace\"><span style=\"font-weight: bold\"> Total params: </span><span style=\"color: #00af00; text-decoration-color: #00af00\">0</span> (0.00 B)\n",
              "</pre>\n"
            ]
          },
          "metadata": {}
        },
        {
          "output_type": "display_data",
          "data": {
            "text/plain": [
              "\u001b[1m Trainable params: \u001b[0m\u001b[38;5;34m0\u001b[0m (0.00 B)\n"
            ],
            "text/html": [
              "<pre style=\"white-space:pre;overflow-x:auto;line-height:normal;font-family:Menlo,'DejaVu Sans Mono',consolas,'Courier New',monospace\"><span style=\"font-weight: bold\"> Trainable params: </span><span style=\"color: #00af00; text-decoration-color: #00af00\">0</span> (0.00 B)\n",
              "</pre>\n"
            ]
          },
          "metadata": {}
        },
        {
          "output_type": "display_data",
          "data": {
            "text/plain": [
              "\u001b[1m Non-trainable params: \u001b[0m\u001b[38;5;34m0\u001b[0m (0.00 B)\n"
            ],
            "text/html": [
              "<pre style=\"white-space:pre;overflow-x:auto;line-height:normal;font-family:Menlo,'DejaVu Sans Mono',consolas,'Courier New',monospace\"><span style=\"font-weight: bold\"> Non-trainable params: </span><span style=\"color: #00af00; text-decoration-color: #00af00\">0</span> (0.00 B)\n",
              "</pre>\n"
            ]
          },
          "metadata": {}
        }
      ]
    },
    {
      "cell_type": "code",
      "source": [
        "# Callback'ler:\n",
        "early_stopping = EarlyStopping(monitor='val_loss', patience=3, restore_best_weights=True)\n",
        "reduce_lr = ReduceLROnPlateau(monitor='val_loss', factor=0.5, patience=2, min_lr=1e-6)\n",
        "\n",
        "# Modeli eğitmek için:\n",
        "epochs = 20\n",
        "batch_size = 32\n",
        "\n",
        "history = model.fit(X_train, y_train,\n",
        "                    epochs=epochs,\n",
        "                    batch_size=batch_size,\n",
        "                    validation_data=(X_test, y_test),\n",
        "                    callbacks=[early_stopping, reduce_lr])"
      ],
      "metadata": {
        "id": "ozihQn-96y1j",
        "colab": {
          "base_uri": "https://localhost:8080/"
        },
        "outputId": "8a159604-7038-4e24-ee06-afb7c3fc349d"
      },
      "execution_count": 11,
      "outputs": [
        {
          "output_type": "stream",
          "name": "stdout",
          "text": [
            "Epoch 1/20\n",
            "\u001b[1m433/433\u001b[0m \u001b[32m━━━━━━━━━━━━━━━━━━━━\u001b[0m\u001b[37m\u001b[0m \u001b[1m28s\u001b[0m 58ms/step - accuracy: 0.3779 - loss: 1.0940 - val_accuracy: 0.4204 - val_loss: 1.0784 - learning_rate: 1.0000e-04\n",
            "Epoch 2/20\n",
            "\u001b[1m433/433\u001b[0m \u001b[32m━━━━━━━━━━━━━━━━━━━━\u001b[0m\u001b[37m\u001b[0m \u001b[1m42s\u001b[0m 60ms/step - accuracy: 0.4393 - loss: 1.0663 - val_accuracy: 0.4959 - val_loss: 1.0126 - learning_rate: 1.0000e-04\n",
            "Epoch 3/20\n",
            "\u001b[1m433/433\u001b[0m \u001b[32m━━━━━━━━━━━━━━━━━━━━\u001b[0m\u001b[37m\u001b[0m \u001b[1m26s\u001b[0m 59ms/step - accuracy: 0.5341 - loss: 0.9801 - val_accuracy: 0.5799 - val_loss: 0.9133 - learning_rate: 1.0000e-04\n",
            "Epoch 4/20\n",
            "\u001b[1m433/433\u001b[0m \u001b[32m━━━━━━━━━━━━━━━━━━━━\u001b[0m\u001b[37m\u001b[0m \u001b[1m42s\u001b[0m 61ms/step - accuracy: 0.6197 - loss: 0.8514 - val_accuracy: 0.6461 - val_loss: 0.8468 - learning_rate: 1.0000e-04\n",
            "Epoch 5/20\n",
            "\u001b[1m433/433\u001b[0m \u001b[32m━━━━━━━━━━━━━━━━━━━━\u001b[0m\u001b[37m\u001b[0m \u001b[1m39s\u001b[0m 57ms/step - accuracy: 0.6866 - loss: 0.7594 - val_accuracy: 0.6638 - val_loss: 0.7952 - learning_rate: 1.0000e-04\n",
            "Epoch 6/20\n",
            "\u001b[1m433/433\u001b[0m \u001b[32m━━━━━━━━━━━━━━━━━━━━\u001b[0m\u001b[37m\u001b[0m \u001b[1m24s\u001b[0m 55ms/step - accuracy: 0.7453 - loss: 0.6583 - val_accuracy: 0.6794 - val_loss: 0.7788 - learning_rate: 1.0000e-04\n",
            "Epoch 7/20\n",
            "\u001b[1m433/433\u001b[0m \u001b[32m━━━━━━━━━━━━━━━━━━━━\u001b[0m\u001b[37m\u001b[0m \u001b[1m41s\u001b[0m 56ms/step - accuracy: 0.7729 - loss: 0.5950 - val_accuracy: 0.6846 - val_loss: 0.7731 - learning_rate: 1.0000e-04\n",
            "Epoch 8/20\n",
            "\u001b[1m433/433\u001b[0m \u001b[32m━━━━━━━━━━━━━━━━━━━━\u001b[0m\u001b[37m\u001b[0m \u001b[1m44s\u001b[0m 63ms/step - accuracy: 0.8093 - loss: 0.5392 - val_accuracy: 0.6817 - val_loss: 0.7822 - learning_rate: 1.0000e-04\n",
            "Epoch 9/20\n",
            "\u001b[1m433/433\u001b[0m \u001b[32m━━━━━━━━━━━━━━━━━━━━\u001b[0m\u001b[37m\u001b[0m \u001b[1m39s\u001b[0m 58ms/step - accuracy: 0.8239 - loss: 0.4870 - val_accuracy: 0.6861 - val_loss: 0.8030 - learning_rate: 1.0000e-04\n",
            "Epoch 10/20\n",
            "\u001b[1m433/433\u001b[0m \u001b[32m━━━━━━━━━━━━━━━━━━━━\u001b[0m\u001b[37m\u001b[0m \u001b[1m41s\u001b[0m 59ms/step - accuracy: 0.8511 - loss: 0.4412 - val_accuracy: 0.6884 - val_loss: 0.8332 - learning_rate: 5.0000e-05\n"
          ]
        }
      ]
    },
    {
      "cell_type": "code",
      "source": [
        "# Test verisiyle değerlendirme aşaması:\n",
        "loss, accuracy = model.evaluate(X_test, y_test)"
      ],
      "metadata": {
        "id": "YTSamaGH9s3y",
        "colab": {
          "base_uri": "https://localhost:8080/"
        },
        "outputId": "4e79ea81-d627-44e0-c883-3cd0e3c9b155"
      },
      "execution_count": 12,
      "outputs": [
        {
          "output_type": "stream",
          "name": "stdout",
          "text": [
            "\u001b[1m108/108\u001b[0m \u001b[32m━━━━━━━━━━━━━━━━━━━━\u001b[0m\u001b[37m\u001b[0m \u001b[1m1s\u001b[0m 12ms/step - accuracy: 0.7292 - loss: 0.6854\n"
          ]
        }
      ]
    },
    {
      "cell_type": "markdown",
      "source": [
        "# Yukarıdaki kod hücrelerinin çalıştırılması neticesinde model doğruluk oranı **0.7292** olarak görülmektedir. Aşağıdaki kod hücrelerinde model doğruluk değerinin artırılması hedeflenmiştir."
      ],
      "metadata": {
        "id": "DV3CUF2yt1L1"
      }
    },
    {
      "cell_type": "code",
      "source": [
        "# Stop words kaldırma işlemi:\n",
        "from sklearn.feature_extraction.text import ENGLISH_STOP_WORDS\n",
        "\n",
        "def remove_stopwords(text):\n",
        "    return ' '.join([word for word in text.split() if word not in ENGLISH_STOP_WORDS])\n",
        "\n",
        "train_data['metin'] = train_data['metin'].apply(remove_stopwords)\n",
        "test_data['metin'] = test_data['metin'].apply(remove_stopwords)"
      ],
      "metadata": {
        "id": "R2Yt6H2uiAOE"
      },
      "execution_count": 13,
      "outputs": []
    },
    {
      "cell_type": "code",
      "source": [
        "# Modeli tekrar tanımlama:\n",
        "model = Sequential()\n",
        "\n",
        "# Embedding katmanı:\n",
        "model.add(Embedding(input_dim=max_num_words,\n",
        "                    output_dim=embedding_dim,\n",
        "                    input_length=max_sequence_length))\n",
        "\n",
        "# LSTM katmanları ekleme:\n",
        "model.add(LSTM(128, dropout=0.4, recurrent_dropout=0.4, return_sequences=True))\n",
        "model.add(LSTM(64, dropout=0.4, recurrent_dropout=0.4))\n",
        "\n",
        "# Dense katman\n",
        "model.add(Dense(32, activation='relu'))\n",
        "model.add(Dropout(0.6))  # Dropout oranı artırıldı.\n",
        "\n",
        "# Çıkış katmanı:\n",
        "model.add(Dense(3, activation='softmax'))\n",
        "\n",
        "# Modeli derleme:\n",
        "model.compile(loss='sparse_categorical_crossentropy',\n",
        "              optimizer=optimizer,\n",
        "              metrics=['accuracy'])\n",
        "\n",
        "# Modelin özeti:\n",
        "model.summary()"
      ],
      "metadata": {
        "id": "_fPKcM_hi3qK",
        "colab": {
          "base_uri": "https://localhost:8080/",
          "height": 353
        },
        "outputId": "9ee61842-e8e5-4e7b-ffa8-22b53df68927"
      },
      "execution_count": 14,
      "outputs": [
        {
          "output_type": "display_data",
          "data": {
            "text/plain": [
              "\u001b[1mModel: \"sequential_1\"\u001b[0m\n"
            ],
            "text/html": [
              "<pre style=\"white-space:pre;overflow-x:auto;line-height:normal;font-family:Menlo,'DejaVu Sans Mono',consolas,'Courier New',monospace\"><span style=\"font-weight: bold\">Model: \"sequential_1\"</span>\n",
              "</pre>\n"
            ]
          },
          "metadata": {}
        },
        {
          "output_type": "display_data",
          "data": {
            "text/plain": [
              "┏━━━━━━━━━━━━━━━━━━━━━━━━━━━━━━━━━━━━━━┳━━━━━━━━━━━━━━━━━━━━━━━━━━━━━┳━━━━━━━━━━━━━━━━━┓\n",
              "┃\u001b[1m \u001b[0m\u001b[1mLayer (type)                        \u001b[0m\u001b[1m \u001b[0m┃\u001b[1m \u001b[0m\u001b[1mOutput Shape               \u001b[0m\u001b[1m \u001b[0m┃\u001b[1m \u001b[0m\u001b[1m        Param #\u001b[0m\u001b[1m \u001b[0m┃\n",
              "┡━━━━━━━━━━━━━━━━━━━━━━━━━━━━━━━━━━━━━━╇━━━━━━━━━━━━━━━━━━━━━━━━━━━━━╇━━━━━━━━━━━━━━━━━┩\n",
              "│ embedding_1 (\u001b[38;5;33mEmbedding\u001b[0m)              │ ?                           │     \u001b[38;5;34m0\u001b[0m (unbuilt) │\n",
              "├──────────────────────────────────────┼─────────────────────────────┼─────────────────┤\n",
              "│ lstm_1 (\u001b[38;5;33mLSTM\u001b[0m)                        │ ?                           │     \u001b[38;5;34m0\u001b[0m (unbuilt) │\n",
              "├──────────────────────────────────────┼─────────────────────────────┼─────────────────┤\n",
              "│ lstm_2 (\u001b[38;5;33mLSTM\u001b[0m)                        │ ?                           │     \u001b[38;5;34m0\u001b[0m (unbuilt) │\n",
              "├──────────────────────────────────────┼─────────────────────────────┼─────────────────┤\n",
              "│ dense_2 (\u001b[38;5;33mDense\u001b[0m)                      │ ?                           │     \u001b[38;5;34m0\u001b[0m (unbuilt) │\n",
              "├──────────────────────────────────────┼─────────────────────────────┼─────────────────┤\n",
              "│ dropout_1 (\u001b[38;5;33mDropout\u001b[0m)                  │ ?                           │     \u001b[38;5;34m0\u001b[0m (unbuilt) │\n",
              "├──────────────────────────────────────┼─────────────────────────────┼─────────────────┤\n",
              "│ dense_3 (\u001b[38;5;33mDense\u001b[0m)                      │ ?                           │     \u001b[38;5;34m0\u001b[0m (unbuilt) │\n",
              "└──────────────────────────────────────┴─────────────────────────────┴─────────────────┘\n"
            ],
            "text/html": [
              "<pre style=\"white-space:pre;overflow-x:auto;line-height:normal;font-family:Menlo,'DejaVu Sans Mono',consolas,'Courier New',monospace\">┏━━━━━━━━━━━━━━━━━━━━━━━━━━━━━━━━━━━━━━┳━━━━━━━━━━━━━━━━━━━━━━━━━━━━━┳━━━━━━━━━━━━━━━━━┓\n",
              "┃<span style=\"font-weight: bold\"> Layer (type)                         </span>┃<span style=\"font-weight: bold\"> Output Shape                </span>┃<span style=\"font-weight: bold\">         Param # </span>┃\n",
              "┡━━━━━━━━━━━━━━━━━━━━━━━━━━━━━━━━━━━━━━╇━━━━━━━━━━━━━━━━━━━━━━━━━━━━━╇━━━━━━━━━━━━━━━━━┩\n",
              "│ embedding_1 (<span style=\"color: #0087ff; text-decoration-color: #0087ff\">Embedding</span>)              │ ?                           │     <span style=\"color: #00af00; text-decoration-color: #00af00\">0</span> (unbuilt) │\n",
              "├──────────────────────────────────────┼─────────────────────────────┼─────────────────┤\n",
              "│ lstm_1 (<span style=\"color: #0087ff; text-decoration-color: #0087ff\">LSTM</span>)                        │ ?                           │     <span style=\"color: #00af00; text-decoration-color: #00af00\">0</span> (unbuilt) │\n",
              "├──────────────────────────────────────┼─────────────────────────────┼─────────────────┤\n",
              "│ lstm_2 (<span style=\"color: #0087ff; text-decoration-color: #0087ff\">LSTM</span>)                        │ ?                           │     <span style=\"color: #00af00; text-decoration-color: #00af00\">0</span> (unbuilt) │\n",
              "├──────────────────────────────────────┼─────────────────────────────┼─────────────────┤\n",
              "│ dense_2 (<span style=\"color: #0087ff; text-decoration-color: #0087ff\">Dense</span>)                      │ ?                           │     <span style=\"color: #00af00; text-decoration-color: #00af00\">0</span> (unbuilt) │\n",
              "├──────────────────────────────────────┼─────────────────────────────┼─────────────────┤\n",
              "│ dropout_1 (<span style=\"color: #0087ff; text-decoration-color: #0087ff\">Dropout</span>)                  │ ?                           │     <span style=\"color: #00af00; text-decoration-color: #00af00\">0</span> (unbuilt) │\n",
              "├──────────────────────────────────────┼─────────────────────────────┼─────────────────┤\n",
              "│ dense_3 (<span style=\"color: #0087ff; text-decoration-color: #0087ff\">Dense</span>)                      │ ?                           │     <span style=\"color: #00af00; text-decoration-color: #00af00\">0</span> (unbuilt) │\n",
              "└──────────────────────────────────────┴─────────────────────────────┴─────────────────┘\n",
              "</pre>\n"
            ]
          },
          "metadata": {}
        },
        {
          "output_type": "display_data",
          "data": {
            "text/plain": [
              "\u001b[1m Total params: \u001b[0m\u001b[38;5;34m2,088,840\u001b[0m (7.97 MB)\n"
            ],
            "text/html": [
              "<pre style=\"white-space:pre;overflow-x:auto;line-height:normal;font-family:Menlo,'DejaVu Sans Mono',consolas,'Courier New',monospace\"><span style=\"font-weight: bold\"> Total params: </span><span style=\"color: #00af00; text-decoration-color: #00af00\">2,088,840</span> (7.97 MB)\n",
              "</pre>\n"
            ]
          },
          "metadata": {}
        },
        {
          "output_type": "display_data",
          "data": {
            "text/plain": [
              "\u001b[1m Trainable params: \u001b[0m\u001b[38;5;34m0\u001b[0m (0.00 B)\n"
            ],
            "text/html": [
              "<pre style=\"white-space:pre;overflow-x:auto;line-height:normal;font-family:Menlo,'DejaVu Sans Mono',consolas,'Courier New',monospace\"><span style=\"font-weight: bold\"> Trainable params: </span><span style=\"color: #00af00; text-decoration-color: #00af00\">0</span> (0.00 B)\n",
              "</pre>\n"
            ]
          },
          "metadata": {}
        },
        {
          "output_type": "display_data",
          "data": {
            "text/plain": [
              "\u001b[1m Non-trainable params: \u001b[0m\u001b[38;5;34m0\u001b[0m (0.00 B)\n"
            ],
            "text/html": [
              "<pre style=\"white-space:pre;overflow-x:auto;line-height:normal;font-family:Menlo,'DejaVu Sans Mono',consolas,'Courier New',monospace\"><span style=\"font-weight: bold\"> Non-trainable params: </span><span style=\"color: #00af00; text-decoration-color: #00af00\">0</span> (0.00 B)\n",
              "</pre>\n"
            ]
          },
          "metadata": {}
        },
        {
          "output_type": "display_data",
          "data": {
            "text/plain": [
              "\u001b[1m Optimizer params: \u001b[0m\u001b[38;5;34m2,088,840\u001b[0m (7.97 MB)\n"
            ],
            "text/html": [
              "<pre style=\"white-space:pre;overflow-x:auto;line-height:normal;font-family:Menlo,'DejaVu Sans Mono',consolas,'Courier New',monospace\"><span style=\"font-weight: bold\"> Optimizer params: </span><span style=\"color: #00af00; text-decoration-color: #00af00\">2,088,840</span> (7.97 MB)\n",
              "</pre>\n"
            ]
          },
          "metadata": {}
        }
      ]
    },
    {
      "cell_type": "code",
      "source": [
        "# Yeni optimizer tanımlama işlemi:\n",
        "optimizer = Adam(learning_rate=0.001)\n",
        "\n",
        "# Modeli derleme:\n",
        "model.compile(loss='sparse_categorical_crossentropy',\n",
        "              optimizer=optimizer,\n",
        "              metrics=['accuracy'])"
      ],
      "metadata": {
        "id": "HJwbhSf4iAFg"
      },
      "execution_count": 15,
      "outputs": []
    },
    {
      "cell_type": "code",
      "source": [
        "# Modeli eğitme süreci:\n",
        "\n",
        "# Callback'ler\n",
        "early_stopping = EarlyStopping(monitor='val_loss', patience=4, restore_best_weights=True)\n",
        "reduce_lr = ReduceLROnPlateau(monitor='val_loss', factor=0.5, patience=3, min_lr=1e-6)\n",
        "\n",
        "# Modeli eğitme\n",
        "history = model.fit(X_train, y_train,\n",
        "                    epochs=30,      # Daha fazla epoch eklendi\n",
        "                    batch_size=64,\n",
        "                    validation_data=(X_test, y_test),\n",
        "                    callbacks=[early_stopping, reduce_lr])"
      ],
      "metadata": {
        "id": "sPSXnrRFh_mj",
        "colab": {
          "base_uri": "https://localhost:8080/"
        },
        "outputId": "be65e5b0-3f33-4587-cf8f-e29924be945b"
      },
      "execution_count": 16,
      "outputs": [
        {
          "output_type": "stream",
          "name": "stdout",
          "text": [
            "Epoch 1/30\n",
            "\u001b[1m217/217\u001b[0m \u001b[32m━━━━━━━━━━━━━━━━━━━━\u001b[0m\u001b[37m\u001b[0m \u001b[1m58s\u001b[0m 246ms/step - accuracy: 0.3984 - loss: 1.0778 - val_accuracy: 0.5373 - val_loss: 0.9027 - learning_rate: 0.0010\n",
            "Epoch 2/30\n",
            "\u001b[1m217/217\u001b[0m \u001b[32m━━━━━━━━━━━━━━━━━━━━\u001b[0m\u001b[37m\u001b[0m \u001b[1m50s\u001b[0m 230ms/step - accuracy: 0.6368 - loss: 0.8210 - val_accuracy: 0.6765 - val_loss: 0.7634 - learning_rate: 0.0010\n",
            "Epoch 3/30\n",
            "\u001b[1m217/217\u001b[0m \u001b[32m━━━━━━━━━━━━━━━━━━━━\u001b[0m\u001b[37m\u001b[0m \u001b[1m54s\u001b[0m 247ms/step - accuracy: 0.7796 - loss: 0.6008 - val_accuracy: 0.6641 - val_loss: 0.7911 - learning_rate: 0.0010\n",
            "Epoch 4/30\n",
            "\u001b[1m217/217\u001b[0m \u001b[32m━━━━━━━━━━━━━━━━━━━━\u001b[0m\u001b[37m\u001b[0m \u001b[1m83s\u001b[0m 251ms/step - accuracy: 0.8314 - loss: 0.4848 - val_accuracy: 0.6730 - val_loss: 0.8534 - learning_rate: 0.0010\n",
            "Epoch 5/30\n",
            "\u001b[1m217/217\u001b[0m \u001b[32m━━━━━━━━━━━━━━━━━━━━\u001b[0m\u001b[37m\u001b[0m \u001b[1m81s\u001b[0m 246ms/step - accuracy: 0.8610 - loss: 0.4048 - val_accuracy: 0.6632 - val_loss: 0.9868 - learning_rate: 0.0010\n",
            "Epoch 6/30\n",
            "\u001b[1m217/217\u001b[0m \u001b[32m━━━━━━━━━━━━━━━━━━━━\u001b[0m\u001b[37m\u001b[0m \u001b[1m82s\u001b[0m 248ms/step - accuracy: 0.8922 - loss: 0.3200 - val_accuracy: 0.6571 - val_loss: 1.1195 - learning_rate: 5.0000e-04\n"
          ]
        }
      ]
    },
    {
      "cell_type": "code",
      "source": [
        "# Test verisiyle değerlendirme\n",
        "print(\"\\n\")\n",
        "loss, accuracy = model.evaluate(X_test, y_test)"
      ],
      "metadata": {
        "id": "XD16fnA5j6O2",
        "colab": {
          "base_uri": "https://localhost:8080/"
        },
        "outputId": "d91c213b-a2f4-4954-d45b-22f8e443b067"
      },
      "execution_count": 17,
      "outputs": [
        {
          "output_type": "stream",
          "name": "stdout",
          "text": [
            "\n",
            "\n",
            "\u001b[1m108/108\u001b[0m \u001b[32m━━━━━━━━━━━━━━━━━━━━\u001b[0m\u001b[37m\u001b[0m \u001b[1m5s\u001b[0m 41ms/step - accuracy: 0.7491 - loss: 0.6496\n"
          ]
        }
      ]
    },
    {
      "cell_type": "code",
      "source": [
        "# Modeli kaydetme\n",
        "model.save('202113709024_Edanur_AKTAN_FS_model.h5')"
      ],
      "metadata": {
        "id": "5yLc3kdnpNqT",
        "colab": {
          "base_uri": "https://localhost:8080/"
        },
        "outputId": "5bab4cd8-c05c-4efc-95ef-0068eca87d06"
      },
      "execution_count": 18,
      "outputs": [
        {
          "output_type": "stream",
          "name": "stderr",
          "text": [
            "WARNING:absl:You are saving your model as an HDF5 file via `model.save()` or `keras.saving.save_model(model)`. This file format is considered legacy. We recommend using instead the native Keras format, e.g. `model.save('my_model.keras')` or `keras.saving.save_model(model, 'my_model.keras')`. \n"
          ]
        }
      ]
    },
    {
      "cell_type": "markdown",
      "source": [
        "# Yapılan bazı değişiklikler sonucu model doğruluk değeri **0.7491**'e yükselmiştir. Model dosyası bu şekilde kaydedilmiştir."
      ],
      "metadata": {
        "id": "A2w4yl1UuS-8"
      }
    },
    {
      "cell_type": "code",
      "source": [
        "# Kaydedilen model ve tokenizer'ı yüklemek için:\n",
        "model = load_model('202113709024_Edanur_AKTAN_FS_model.h5')\n",
        "\n",
        "# Tokenizer dosyasını yüklemek için:\n",
        "import pickle\n",
        "\n",
        "# Tokenizer'ı kaydetme işlemi:\n",
        "with open('202113709024_Edanur_AKTAN_FS_tokenizer.pkl', 'wb') as handle:\n",
        "    pickle.dump(tokenizer, handle, protocol=pickle.HIGHEST_PROTOCOL)"
      ],
      "metadata": {
        "id": "gWp6r_MViXsL",
        "colab": {
          "base_uri": "https://localhost:8080/"
        },
        "outputId": "14d41d3c-81c2-478e-9c3a-7f9339437a44"
      },
      "execution_count": 19,
      "outputs": [
        {
          "output_type": "stream",
          "name": "stderr",
          "text": [
            "WARNING:absl:Compiled the loaded model, but the compiled metrics have yet to be built. `model.compile_metrics` will be empty until you train or evaluate the model.\n"
          ]
        }
      ]
    },
    {
      "cell_type": "code",
      "source": [
        "!pip install gradio\n",
        "!pip install tensorflow\n",
        "!pip install requests\n",
        "!pip install beautifulsoup4"
      ],
      "metadata": {
        "id": "BC4Ust6STQ0Y",
        "colab": {
          "base_uri": "https://localhost:8080/"
        },
        "outputId": "7e1f2cd8-f4ea-473f-d40f-8b13fa5dc4ac"
      },
      "execution_count": 20,
      "outputs": [
        {
          "output_type": "stream",
          "name": "stdout",
          "text": [
            "Requirement already satisfied: gradio in /usr/local/lib/python3.10/dist-packages (5.10.0)\n",
            "Requirement already satisfied: aiofiles<24.0,>=22.0 in /usr/local/lib/python3.10/dist-packages (from gradio) (23.2.1)\n",
            "Requirement already satisfied: anyio<5.0,>=3.0 in /usr/local/lib/python3.10/dist-packages (from gradio) (3.7.1)\n",
            "Requirement already satisfied: fastapi<1.0,>=0.115.2 in /usr/local/lib/python3.10/dist-packages (from gradio) (0.115.6)\n",
            "Requirement already satisfied: ffmpy in /usr/local/lib/python3.10/dist-packages (from gradio) (0.5.0)\n",
            "Requirement already satisfied: gradio-client==1.5.3 in /usr/local/lib/python3.10/dist-packages (from gradio) (1.5.3)\n",
            "Requirement already satisfied: httpx>=0.24.1 in /usr/local/lib/python3.10/dist-packages (from gradio) (0.28.1)\n",
            "Requirement already satisfied: huggingface-hub>=0.25.1 in /usr/local/lib/python3.10/dist-packages (from gradio) (0.27.0)\n",
            "Requirement already satisfied: jinja2<4.0 in /usr/local/lib/python3.10/dist-packages (from gradio) (3.1.4)\n",
            "Requirement already satisfied: markupsafe~=2.0 in /usr/local/lib/python3.10/dist-packages (from gradio) (2.1.5)\n",
            "Requirement already satisfied: numpy<3.0,>=1.0 in /usr/local/lib/python3.10/dist-packages (from gradio) (1.26.4)\n",
            "Requirement already satisfied: orjson~=3.0 in /usr/local/lib/python3.10/dist-packages (from gradio) (3.10.12)\n",
            "Requirement already satisfied: packaging in /usr/local/lib/python3.10/dist-packages (from gradio) (24.2)\n",
            "Requirement already satisfied: pandas<3.0,>=1.0 in /usr/local/lib/python3.10/dist-packages (from gradio) (2.2.2)\n",
            "Requirement already satisfied: pillow<12.0,>=8.0 in /usr/local/lib/python3.10/dist-packages (from gradio) (11.0.0)\n",
            "Requirement already satisfied: pydantic>=2.0 in /usr/local/lib/python3.10/dist-packages (from gradio) (2.10.3)\n",
            "Requirement already satisfied: pydub in /usr/local/lib/python3.10/dist-packages (from gradio) (0.25.1)\n",
            "Requirement already satisfied: python-multipart>=0.0.18 in /usr/local/lib/python3.10/dist-packages (from gradio) (0.0.20)\n",
            "Requirement already satisfied: pyyaml<7.0,>=5.0 in /usr/local/lib/python3.10/dist-packages (from gradio) (6.0.2)\n",
            "Requirement already satisfied: ruff>=0.2.2 in /usr/local/lib/python3.10/dist-packages (from gradio) (0.8.6)\n",
            "Requirement already satisfied: safehttpx<0.2.0,>=0.1.6 in /usr/local/lib/python3.10/dist-packages (from gradio) (0.1.6)\n",
            "Requirement already satisfied: semantic-version~=2.0 in /usr/local/lib/python3.10/dist-packages (from gradio) (2.10.0)\n",
            "Requirement already satisfied: starlette<1.0,>=0.40.0 in /usr/local/lib/python3.10/dist-packages (from gradio) (0.41.3)\n",
            "Requirement already satisfied: tomlkit<0.14.0,>=0.12.0 in /usr/local/lib/python3.10/dist-packages (from gradio) (0.13.2)\n",
            "Requirement already satisfied: typer<1.0,>=0.12 in /usr/local/lib/python3.10/dist-packages (from gradio) (0.15.1)\n",
            "Requirement already satisfied: typing-extensions~=4.0 in /usr/local/lib/python3.10/dist-packages (from gradio) (4.12.2)\n",
            "Requirement already satisfied: uvicorn>=0.14.0 in /usr/local/lib/python3.10/dist-packages (from gradio) (0.34.0)\n",
            "Requirement already satisfied: fsspec in /usr/local/lib/python3.10/dist-packages (from gradio-client==1.5.3->gradio) (2024.10.0)\n",
            "Requirement already satisfied: websockets<15.0,>=10.0 in /usr/local/lib/python3.10/dist-packages (from gradio-client==1.5.3->gradio) (14.1)\n",
            "Requirement already satisfied: idna>=2.8 in /usr/local/lib/python3.10/dist-packages (from anyio<5.0,>=3.0->gradio) (3.10)\n",
            "Requirement already satisfied: sniffio>=1.1 in /usr/local/lib/python3.10/dist-packages (from anyio<5.0,>=3.0->gradio) (1.3.1)\n",
            "Requirement already satisfied: exceptiongroup in /usr/local/lib/python3.10/dist-packages (from anyio<5.0,>=3.0->gradio) (1.2.2)\n",
            "Requirement already satisfied: certifi in /usr/local/lib/python3.10/dist-packages (from httpx>=0.24.1->gradio) (2024.12.14)\n",
            "Requirement already satisfied: httpcore==1.* in /usr/local/lib/python3.10/dist-packages (from httpx>=0.24.1->gradio) (1.0.7)\n",
            "Requirement already satisfied: h11<0.15,>=0.13 in /usr/local/lib/python3.10/dist-packages (from httpcore==1.*->httpx>=0.24.1->gradio) (0.14.0)\n",
            "Requirement already satisfied: filelock in /usr/local/lib/python3.10/dist-packages (from huggingface-hub>=0.25.1->gradio) (3.16.1)\n",
            "Requirement already satisfied: requests in /usr/local/lib/python3.10/dist-packages (from huggingface-hub>=0.25.1->gradio) (2.32.3)\n",
            "Requirement already satisfied: tqdm>=4.42.1 in /usr/local/lib/python3.10/dist-packages (from huggingface-hub>=0.25.1->gradio) (4.67.1)\n",
            "Requirement already satisfied: python-dateutil>=2.8.2 in /usr/local/lib/python3.10/dist-packages (from pandas<3.0,>=1.0->gradio) (2.8.2)\n",
            "Requirement already satisfied: pytz>=2020.1 in /usr/local/lib/python3.10/dist-packages (from pandas<3.0,>=1.0->gradio) (2024.2)\n",
            "Requirement already satisfied: tzdata>=2022.7 in /usr/local/lib/python3.10/dist-packages (from pandas<3.0,>=1.0->gradio) (2024.2)\n",
            "Requirement already satisfied: annotated-types>=0.6.0 in /usr/local/lib/python3.10/dist-packages (from pydantic>=2.0->gradio) (0.7.0)\n",
            "Requirement already satisfied: pydantic-core==2.27.1 in /usr/local/lib/python3.10/dist-packages (from pydantic>=2.0->gradio) (2.27.1)\n",
            "Requirement already satisfied: click>=8.0.0 in /usr/local/lib/python3.10/dist-packages (from typer<1.0,>=0.12->gradio) (8.1.7)\n",
            "Requirement already satisfied: shellingham>=1.3.0 in /usr/local/lib/python3.10/dist-packages (from typer<1.0,>=0.12->gradio) (1.5.4)\n",
            "Requirement already satisfied: rich>=10.11.0 in /usr/local/lib/python3.10/dist-packages (from typer<1.0,>=0.12->gradio) (13.9.4)\n",
            "Requirement already satisfied: six>=1.5 in /usr/local/lib/python3.10/dist-packages (from python-dateutil>=2.8.2->pandas<3.0,>=1.0->gradio) (1.17.0)\n",
            "Requirement already satisfied: markdown-it-py>=2.2.0 in /usr/local/lib/python3.10/dist-packages (from rich>=10.11.0->typer<1.0,>=0.12->gradio) (3.0.0)\n",
            "Requirement already satisfied: pygments<3.0.0,>=2.13.0 in /usr/local/lib/python3.10/dist-packages (from rich>=10.11.0->typer<1.0,>=0.12->gradio) (2.18.0)\n",
            "Requirement already satisfied: charset-normalizer<4,>=2 in /usr/local/lib/python3.10/dist-packages (from requests->huggingface-hub>=0.25.1->gradio) (3.4.0)\n",
            "Requirement already satisfied: urllib3<3,>=1.21.1 in /usr/local/lib/python3.10/dist-packages (from requests->huggingface-hub>=0.25.1->gradio) (2.2.3)\n",
            "Requirement already satisfied: mdurl~=0.1 in /usr/local/lib/python3.10/dist-packages (from markdown-it-py>=2.2.0->rich>=10.11.0->typer<1.0,>=0.12->gradio) (0.1.2)\n",
            "Requirement already satisfied: tensorflow in /usr/local/lib/python3.10/dist-packages (2.17.1)\n",
            "Requirement already satisfied: absl-py>=1.0.0 in /usr/local/lib/python3.10/dist-packages (from tensorflow) (1.4.0)\n",
            "Requirement already satisfied: astunparse>=1.6.0 in /usr/local/lib/python3.10/dist-packages (from tensorflow) (1.6.3)\n",
            "Requirement already satisfied: flatbuffers>=24.3.25 in /usr/local/lib/python3.10/dist-packages (from tensorflow) (24.3.25)\n",
            "Requirement already satisfied: gast!=0.5.0,!=0.5.1,!=0.5.2,>=0.2.1 in /usr/local/lib/python3.10/dist-packages (from tensorflow) (0.6.0)\n",
            "Requirement already satisfied: google-pasta>=0.1.1 in /usr/local/lib/python3.10/dist-packages (from tensorflow) (0.2.0)\n",
            "Requirement already satisfied: h5py>=3.10.0 in /usr/local/lib/python3.10/dist-packages (from tensorflow) (3.12.1)\n",
            "Requirement already satisfied: libclang>=13.0.0 in /usr/local/lib/python3.10/dist-packages (from tensorflow) (18.1.1)\n",
            "Requirement already satisfied: ml-dtypes<0.5.0,>=0.3.1 in /usr/local/lib/python3.10/dist-packages (from tensorflow) (0.4.1)\n",
            "Requirement already satisfied: opt-einsum>=2.3.2 in /usr/local/lib/python3.10/dist-packages (from tensorflow) (3.4.0)\n",
            "Requirement already satisfied: packaging in /usr/local/lib/python3.10/dist-packages (from tensorflow) (24.2)\n",
            "Requirement already satisfied: protobuf!=4.21.0,!=4.21.1,!=4.21.2,!=4.21.3,!=4.21.4,!=4.21.5,<5.0.0dev,>=3.20.3 in /usr/local/lib/python3.10/dist-packages (from tensorflow) (4.25.5)\n",
            "Requirement already satisfied: requests<3,>=2.21.0 in /usr/local/lib/python3.10/dist-packages (from tensorflow) (2.32.3)\n",
            "Requirement already satisfied: setuptools in /usr/local/lib/python3.10/dist-packages (from tensorflow) (75.1.0)\n",
            "Requirement already satisfied: six>=1.12.0 in /usr/local/lib/python3.10/dist-packages (from tensorflow) (1.17.0)\n",
            "Requirement already satisfied: termcolor>=1.1.0 in /usr/local/lib/python3.10/dist-packages (from tensorflow) (2.5.0)\n",
            "Requirement already satisfied: typing-extensions>=3.6.6 in /usr/local/lib/python3.10/dist-packages (from tensorflow) (4.12.2)\n",
            "Requirement already satisfied: wrapt>=1.11.0 in /usr/local/lib/python3.10/dist-packages (from tensorflow) (1.17.0)\n",
            "Requirement already satisfied: grpcio<2.0,>=1.24.3 in /usr/local/lib/python3.10/dist-packages (from tensorflow) (1.68.1)\n",
            "Requirement already satisfied: tensorboard<2.18,>=2.17 in /usr/local/lib/python3.10/dist-packages (from tensorflow) (2.17.1)\n",
            "Requirement already satisfied: keras>=3.2.0 in /usr/local/lib/python3.10/dist-packages (from tensorflow) (3.5.0)\n",
            "Requirement already satisfied: tensorflow-io-gcs-filesystem>=0.23.1 in /usr/local/lib/python3.10/dist-packages (from tensorflow) (0.37.1)\n",
            "Requirement already satisfied: numpy<2.0.0,>=1.23.5 in /usr/local/lib/python3.10/dist-packages (from tensorflow) (1.26.4)\n",
            "Requirement already satisfied: wheel<1.0,>=0.23.0 in /usr/local/lib/python3.10/dist-packages (from astunparse>=1.6.0->tensorflow) (0.45.1)\n",
            "Requirement already satisfied: rich in /usr/local/lib/python3.10/dist-packages (from keras>=3.2.0->tensorflow) (13.9.4)\n",
            "Requirement already satisfied: namex in /usr/local/lib/python3.10/dist-packages (from keras>=3.2.0->tensorflow) (0.0.8)\n",
            "Requirement already satisfied: optree in /usr/local/lib/python3.10/dist-packages (from keras>=3.2.0->tensorflow) (0.13.1)\n",
            "Requirement already satisfied: charset-normalizer<4,>=2 in /usr/local/lib/python3.10/dist-packages (from requests<3,>=2.21.0->tensorflow) (3.4.0)\n",
            "Requirement already satisfied: idna<4,>=2.5 in /usr/local/lib/python3.10/dist-packages (from requests<3,>=2.21.0->tensorflow) (3.10)\n",
            "Requirement already satisfied: urllib3<3,>=1.21.1 in /usr/local/lib/python3.10/dist-packages (from requests<3,>=2.21.0->tensorflow) (2.2.3)\n",
            "Requirement already satisfied: certifi>=2017.4.17 in /usr/local/lib/python3.10/dist-packages (from requests<3,>=2.21.0->tensorflow) (2024.12.14)\n",
            "Requirement already satisfied: markdown>=2.6.8 in /usr/local/lib/python3.10/dist-packages (from tensorboard<2.18,>=2.17->tensorflow) (3.7)\n",
            "Requirement already satisfied: tensorboard-data-server<0.8.0,>=0.7.0 in /usr/local/lib/python3.10/dist-packages (from tensorboard<2.18,>=2.17->tensorflow) (0.7.2)\n",
            "Requirement already satisfied: werkzeug>=1.0.1 in /usr/local/lib/python3.10/dist-packages (from tensorboard<2.18,>=2.17->tensorflow) (3.1.3)\n",
            "Requirement already satisfied: MarkupSafe>=2.1.1 in /usr/local/lib/python3.10/dist-packages (from werkzeug>=1.0.1->tensorboard<2.18,>=2.17->tensorflow) (2.1.5)\n",
            "Requirement already satisfied: markdown-it-py>=2.2.0 in /usr/local/lib/python3.10/dist-packages (from rich->keras>=3.2.0->tensorflow) (3.0.0)\n",
            "Requirement already satisfied: pygments<3.0.0,>=2.13.0 in /usr/local/lib/python3.10/dist-packages (from rich->keras>=3.2.0->tensorflow) (2.18.0)\n",
            "Requirement already satisfied: mdurl~=0.1 in /usr/local/lib/python3.10/dist-packages (from markdown-it-py>=2.2.0->rich->keras>=3.2.0->tensorflow) (0.1.2)\n",
            "Requirement already satisfied: requests in /usr/local/lib/python3.10/dist-packages (2.32.3)\n",
            "Requirement already satisfied: charset-normalizer<4,>=2 in /usr/local/lib/python3.10/dist-packages (from requests) (3.4.0)\n",
            "Requirement already satisfied: idna<4,>=2.5 in /usr/local/lib/python3.10/dist-packages (from requests) (3.10)\n",
            "Requirement already satisfied: urllib3<3,>=1.21.1 in /usr/local/lib/python3.10/dist-packages (from requests) (2.2.3)\n",
            "Requirement already satisfied: certifi>=2017.4.17 in /usr/local/lib/python3.10/dist-packages (from requests) (2024.12.14)\n",
            "Requirement already satisfied: beautifulsoup4 in /usr/local/lib/python3.10/dist-packages (4.12.3)\n",
            "Requirement already satisfied: soupsieve>1.2 in /usr/local/lib/python3.10/dist-packages (from beautifulsoup4) (2.6)\n"
          ]
        }
      ]
    },
    {
      "cell_type": "markdown",
      "source": [
        "# **Aşağıdaki kod hücresi, \"Web Scraping\" aracılığıyla girdileri çekilen Uludağ Sözlük sitesindeki entry'lerin duygu analizleriyle birlikte görüntülenmesini içerir. Entry konusunu kullanıcı girebilmekte ve istediği konuyla ilgili entry'leri görüntüleyebilmektedir:**"
      ],
      "metadata": {
        "id": "b2NC08pgw_gG"
      }
    },
    {
      "cell_type": "code",
      "source": [
        "import gradio as gr\n",
        "import requests\n",
        "from bs4 import BeautifulSoup\n",
        "import pickle\n",
        "\n",
        "# Modeli ve Tokenizer'ı yüklemek için:\n",
        "model = load_model('202113709024_Edanur_AKTAN_FS_model.h5')\n",
        "\n",
        "# Tokenizer dosyasını yüklemek için:\n",
        "with open('202113709024_Edanur_AKTAN_FS_tokenizer.pkl', 'rb') as handle:\n",
        "    tokenizer = pickle.load(handle)\n",
        "\n",
        "# Metni temizleme fonksiyonu:\n",
        "def clean_text(text):\n",
        "    text = re.sub(r'http\\S+', '', text)  # Linkleri kaldır\n",
        "    text = re.sub(r'@\\w+', '', text)    # Mentionları kaldır\n",
        "    text = re.sub(r'#', '', text)       # Hashtag işaretlerini kaldır\n",
        "    text = re.sub(r'[^\\w\\s]', '', text) # Noktalama işaretlerini kaldır\n",
        "    text = text.lower()                 # Küçük harfe çevir\n",
        "    return text\n",
        "\n",
        "# Duygu analizi fonksiyonu:\n",
        "def predict_sentiment(texts):\n",
        "    texts = [clean_text(text) for text in texts]\n",
        "    sequences = tokenizer.texts_to_sequences(texts)\n",
        "    padded_sequences = pad_sequences(sequences, maxlen=50)\n",
        "    predictions = model.predict(padded_sequences)\n",
        "    sentiments = ['Olumsuz', 'Nötr', 'Olumlu']\n",
        "    return [sentiments[np.argmax(pred)] for pred in predictions]\n",
        "\n",
        "# Web scraping işlemi:\n",
        "def fetch_entries(keyword):\n",
        "    url = f\"https://www.uludagsozluk.com/k/{keyword}/\"\n",
        "    response = requests.get(url)\n",
        "\n",
        "    if response.status_code == 200:\n",
        "        soup = BeautifulSoup(response.content, 'html.parser')\n",
        "        entries = soup.find_all('div', class_='entry-body')\n",
        "        return [entry.get_text(strip=True) for entry in entries]\n",
        "    else:\n",
        "        return []\n",
        "\n",
        "# Gradio arayüzü için fonksiyon:\n",
        "def scrape_and_analyze(keyword):\n",
        "    entries = fetch_entries(keyword)\n",
        "\n",
        "    if not entries:\n",
        "        return \"Hiç entry bulunamadı. Lütfen farklı bir anahtar kelime deneyin.\"\n",
        "\n",
        "    # Entry'lerin duygu analizini yapmak için:\n",
        "    sentiments = predict_sentiment(entries)\n",
        "\n",
        "    results = []\n",
        "    for entry, sentiment in zip(entries, sentiments):\n",
        "        results.append(f\"{entry}\\n**Duygu:** {sentiment}\")\n",
        "\n",
        "    return \"\\n\\n\".join(results)\n",
        "\n",
        "# Gradio arayüzü oluşturmak için:\n",
        "iface = gr.Interface(fn=scrape_and_analyze, inputs=\"text\", outputs=\"text\", live=True)\n",
        "\n",
        "# Arayüzü çalıştırma:\n",
        "iface.launch()\n"
      ],
      "metadata": {
        "id": "IA-wwJo5TuNV",
        "colab": {
          "base_uri": "https://localhost:8080/",
          "height": 663
        },
        "outputId": "a049be73-f7c1-4b5c-d0ab-d2b84dff4448"
      },
      "execution_count": 22,
      "outputs": [
        {
          "output_type": "stream",
          "name": "stderr",
          "text": [
            "WARNING:absl:Compiled the loaded model, but the compiled metrics have yet to be built. `model.compile_metrics` will be empty until you train or evaluate the model.\n"
          ]
        },
        {
          "output_type": "stream",
          "name": "stdout",
          "text": [
            "Running Gradio in a Colab notebook requires sharing enabled. Automatically setting `share=True` (you can turn this off by setting `share=False` in `launch()` explicitly).\n",
            "\n",
            "Colab notebook detected. To show errors in colab notebook, set debug=True in launch()\n",
            "* Running on public URL: https://4c2f9a0a7ebd5b0153.gradio.live\n",
            "\n",
            "This share link expires in 72 hours. For free permanent hosting and GPU upgrades, run `gradio deploy` from the terminal in the working directory to deploy to Hugging Face Spaces (https://huggingface.co/spaces)\n"
          ]
        },
        {
          "output_type": "display_data",
          "data": {
            "text/plain": [
              "<IPython.core.display.HTML object>"
            ],
            "text/html": [
              "<div><iframe src=\"https://4c2f9a0a7ebd5b0153.gradio.live\" width=\"100%\" height=\"500\" allow=\"autoplay; camera; microphone; clipboard-read; clipboard-write;\" frameborder=\"0\" allowfullscreen></iframe></div>"
            ]
          },
          "metadata": {}
        },
        {
          "output_type": "execute_result",
          "data": {
            "text/plain": []
          },
          "metadata": {},
          "execution_count": 22
        }
      ]
    },
    {
      "cell_type": "code",
      "source": [],
      "metadata": {
        "id": "YFCHOpqWzoX9"
      },
      "execution_count": null,
      "outputs": []
    }
  ]
}